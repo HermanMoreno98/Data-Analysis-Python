{
 "cells": [
  {
   "cell_type": "markdown",
   "id": "bcdf728a",
   "metadata": {},
   "source": [
    "# Chapter 1"
   ]
  },
  {
   "cell_type": "markdown",
   "id": "7b4580aa",
   "metadata": {},
   "source": [
    "## Basic Syntax"
   ]
  },
  {
   "cell_type": "markdown",
   "id": "321fdc1b",
   "metadata": {},
   "source": [
    "### Multiple statemetns on a single line"
   ]
  },
  {
   "cell_type": "markdown",
   "id": "1934d3d5",
   "metadata": {},
   "source": [
    "Python allows the use of \\n to split line into multiple lineas. In addition, the semicolon \";\" allows multiple statements on a single line of neither statement starts a new code block."
   ]
  },
  {
   "cell_type": "code",
   "execution_count": 3,
   "id": "f2e78212",
   "metadata": {},
   "outputs": [
    {
     "name": "stdout",
     "output_type": "stream",
     "text": [
      "Nour\n",
      "Welcome to\n",
      "Dubai Festival 2018\n"
     ]
    }
   ],
   "source": [
    "TV = 15; name = \"Nour\"; print(name);print(\"Welcome to\\nDubai Festival 2018\")"
   ]
  },
  {
   "cell_type": "markdown",
   "id": "497a3634",
   "metadata": {},
   "source": [
    "### Read Data from Users"
   ]
  },
  {
   "cell_type": "code",
   "execution_count": 5,
   "id": "0858807e",
   "metadata": {},
   "outputs": [
    {
     "name": "stdout",
     "output_type": "stream",
     "text": [
      "Enter your name: Paul\n",
      "Enter your age: 24\n",
      "\n",
      "Name = Paul\n",
      "\n",
      "Age = 24\n"
     ]
    }
   ],
   "source": [
    "name = input(\"Enter your name: \")\n",
    "age = int(input(\"Enter your age: \"))\n",
    "print(\"\\nName =\", name);print(\"\\nAge =\", age)"
   ]
  },
  {
   "cell_type": "markdown",
   "id": "5fc5f3c3",
   "metadata": {},
   "source": [
    "### Declaring Variables and Assigning Values"
   ]
  },
  {
   "cell_type": "markdown",
   "id": "95d25f80",
   "metadata": {},
   "source": [
    "<p>Python has five standart data types that are used to define the operations possible on them and the storage method for each of them</p>\n",
    "<ul>\n",
    "<li>Number</li>\n",
    "<li>String</li>\n",
    "<li>List</li>\n",
    "<li>Tuple</li>\n",
    "<li>Dictionary</li>\n",
    "</ul>\n",
    "<p>The equal \"=\" operator is used to assign a value to a variable.</p>"
   ]
  },
  {
   "cell_type": "code",
   "execution_count": 6,
   "id": "7aaed270",
   "metadata": {},
   "outputs": [],
   "source": [
    "age = 11\n",
    "name = \"Nour\"\n",
    "tall = 100.50"
   ]
  },
  {
   "cell_type": "code",
   "execution_count": 7,
   "id": "b4acfc65",
   "metadata": {},
   "outputs": [
    {
     "name": "stdout",
     "output_type": "stream",
     "text": [
      "11\n",
      "Nour\n",
      "100.5\n"
     ]
    }
   ],
   "source": [
    "print(age)\n",
    "print(name)\n",
    "print(tall)"
   ]
  },
  {
   "cell_type": "markdown",
   "id": "249a1446",
   "metadata": {},
   "source": [
    "### Multiple Assigns"
   ]
  },
  {
   "cell_type": "code",
   "execution_count": 11,
   "id": "89b4416e",
   "metadata": {},
   "outputs": [
    {
     "name": "stdout",
     "output_type": "stream",
     "text": [
      "25\n",
      "25\n",
      "25\n"
     ]
    }
   ],
   "source": [
    "age = mark = code = 25\n",
    "print(age)\n",
    "print(mark)\n",
    "print(code)"
   ]
  },
  {
   "cell_type": "code",
   "execution_count": 12,
   "id": "f2d74f98",
   "metadata": {},
   "outputs": [
    {
     "name": "stdout",
     "output_type": "stream",
     "text": [
      "10\n",
      "75\n",
      "CIS2403\n"
     ]
    }
   ],
   "source": [
    "age, mark, code = 10, 75, \"CIS2403\"\n",
    "print(age)\n",
    "print(mark)\n",
    "print(code)"
   ]
  },
  {
   "cell_type": "markdown",
   "id": "70d55199",
   "metadata": {},
   "source": [
    "### Variable names"
   ]
  },
  {
   "cell_type": "markdown",
   "id": "ea88e1c6",
   "metadata": {},
   "source": [
    "<p>\n",
    "    A variable is an identifier that allocates specific memory space and assigns a value that could change during the program runtime.\n",
    "</p>\n",
    "<p>\n",
    "    There are many rules and restrictions for variable names. The following examples shows incorrect naming:\n",
    "</p>\n",
    "\n",
    "```python\n",
    "{?age, 1age, age student, and, if, 1_age, etc}\n",
    "```\n",
    "\n",
    "<p>\n",
    "    The following shows correct naming for a variable:\n",
    "</p>\n",
    "\n",
    "```python\n",
    "{age, age_1, age_1, if_age, etc.}\n",
    "```"
   ]
  },
  {
   "cell_type": "markdown",
   "id": "16c0ba5d",
   "metadata": {},
   "source": [
    "### Statements and Expressions"
   ]
  },
  {
   "cell_type": "markdown",
   "id": "807787b0",
   "metadata": {},
   "source": [
    "<p>A <b><i>statement</i></b> is any unit of code thta can be executed by a Python interpreter to get a specific result or perform a specific task</p>\n",
    "<p>The <b><i>expression</i></b> is a combination of values, variables, and operators that are evaluated by the interpreter to do a specific task</p>"
   ]
  },
  {
   "cell_type": "code",
   "execution_count": 14,
   "id": "5012ce27",
   "metadata": {},
   "outputs": [
    {
     "name": "stdout",
     "output_type": "stream",
     "text": [
      "0.94\n"
     ]
    }
   ],
   "source": [
    "x = 0.6 #Statement\n",
    "x = 3.9 * x * (1-x) #Expressions\n",
    "print(round(x,2))"
   ]
  },
  {
   "cell_type": "markdown",
   "id": "3af8ae86",
   "metadata": {},
   "source": [
    "### Basic Operators in Python"
   ]
  },
  {
   "cell_type": "markdown",
   "id": "f2e25861",
   "metadata": {},
   "source": [
    "#### Arithmetic Operators"
   ]
  },
  {
   "cell_type": "markdown",
   "id": "e51c368e",
   "metadata": {},
   "source": [
    "<table>\n",
    "  <tr>\n",
    "    <th>Operators</th>\n",
    "    <th>Description</th>\n",
    "    <th>Example</th>\n",
    "    <th>Output</th>\n",
    "  </tr>\n",
    "  <tr>\n",
    "    <td>//</td>\n",
    "    <td>Performs floor division(gives the integer value after division)</td>\n",
    "    <td>print (13//5)</td>\n",
    "    <td>2</td>\n",
    "  </tr>\n",
    "  <tr>\n",
    "    <td>+</td>\n",
    "    <td>Performs addition</td>\n",
    "    <td>print (13+5)</td>        \n",
    "    <td>18</td>\n",
    "  </tr>\n",
    "  <tr>\n",
    "    <td>-</td>\n",
    "    <td>Performs subtraction</td>\n",
    "    <td>print (13-5)</td>\n",
    "    <td>8</td>\n",
    "  </tr>\n",
    "  <tr>\n",
    "    <td>*</td>\n",
    "    <td>Performs multiplication</td>\n",
    "    <td>print (2*5)</td>\n",
    "    <td>10</td>\n",
    "  </tr>\n",
    "  <tr>\n",
    "    <td>/</td>\n",
    "    <td>Performs division</td>\n",
    "    <td>print (13/5)</td>\n",
    "    <td>2.6</td>\n",
    "  </tr>\n",
    "  <tr>\n",
    "    <td>%</td>\n",
    "    <td>Returns the remainder after division (modulus) </td>\n",
    "    <td>print (13%5)</td>\n",
    "    <td>3</td>\n",
    "  </tr>\n",
    "  <tr>\n",
    "    <td>**</td>\n",
    "    <td>Returns an exponent (raises to a power)</td>\n",
    "    <td>print (2**3)</td>\n",
    "    <td>8</td>\n",
    "  </tr>\n",
    "</table>"
   ]
  },
  {
   "cell_type": "markdown",
   "id": "90fc299b",
   "metadata": {},
   "source": [
    "#### Relational Operators"
   ]
  },
  {
   "cell_type": "markdown",
   "id": "98ce1d68",
   "metadata": {},
   "source": [
    "<table>\n",
    "  <tr>\n",
    "    <th>Operators</th>\n",
    "    <th>Description</th>\n",
    "    <th>Example</th>\n",
    "    <th>Output</th>\n",
    "  </tr>\n",
    "  <tr>\n",
    "    <td><</td>\n",
    "    <td>Less than</td>\n",
    "    <td>print (13<5)</td>\n",
    "    <td>False</td>\n",
    "  </tr>\n",
    "  <tr>\n",
    "    <td>></td>\n",
    "    <td>Greater than</td>\n",
    "    <td>print (13>5)</td>        \n",
    "    <td>true</td>\n",
    "  </tr>\n",
    "  <tr>\n",
    "    <td><=</td>\n",
    "    <td>Less than or equal to</td>\n",
    "    <td>print (13<=5)</td>\n",
    "    <td>False</td>\n",
    "  </tr>\n",
    "  <tr>\n",
    "    <td>>=</td>\n",
    "    <td>Greater than or equal to</td>\n",
    "    <td>print (2>=5)</td>\n",
    "    <td>False</td>\n",
    "  </tr>\n",
    "  <tr>\n",
    "    <td>==</td>\n",
    "    <td>Equal to</td>\n",
    "    <td>print (13==5)</td>\n",
    "    <td>False</td>\n",
    "  </tr>\n",
    "  <tr>\n",
    "    <td>!=</td>\n",
    "    <td>Not equal to</td>\n",
    "    <td>print (13!=5)</td>\n",
    "    <td>True</td>\n",
    "  </tr>\n",
    "</table>"
   ]
  },
  {
   "cell_type": "markdown",
   "id": "174054fc",
   "metadata": {},
   "source": [
    "#### Assign Operators"
   ]
  },
  {
   "cell_type": "markdown",
   "id": "c9059077",
   "metadata": {},
   "source": [
    "<table>\n",
    "  <tr>\n",
    "    <th>Operators</th>\n",
    "    <th>Description</th>\n",
    "    <th>Example</th>\n",
    "    <th>Output</th>\n",
    "  </tr>\n",
    "  <tr>\n",
    "    <td>==</td>\n",
    "    <td>Assigns</td>\n",
    "    <td>x=10. print(x)</td>\n",
    "    <td>10</td>\n",
    "  </tr>\n",
    "  <tr>\n",
    "    <td>/=</td>\n",
    "    <td>Divides and assigns</td>\n",
    "    <td>x=10; x/=2. print(x)</td>        \n",
    "    <td>5</td>\n",
    "  </tr>\n",
    "  <tr>\n",
    "    <td>+=</td>\n",
    "    <td>Adds and assigns</td>\n",
    "    <td>x=10; x+=7. print(x)</td>\n",
    "    <td>17</td>\n",
    "  </tr>\n",
    "  <tr>\n",
    "    <td>-=</td>\n",
    "    <td>Substracts and assigns</td>\n",
    "    <td>x=10; x-=6. print(x)</td>\n",
    "    <td>4</td>\n",
    "  </tr>\n",
    "  <tr>\n",
    "    <td>*=</td>\n",
    "    <td>Multiplies and assigns</td>\n",
    "    <td>x=10; x*=5. print(x)</td>\n",
    "    <td>50</td>\n",
    "  </tr>\n",
    "  <tr>\n",
    "    <td>%=</td>\n",
    "    <td>Modulus and assigns</td>\n",
    "    <td>x=13; x%=5. print(x)</td>\n",
    "    <td>3</td>\n",
    "  </tr>\n",
    "  <tr>\n",
    "    <td>**=</td>\n",
    "    <td>Exponent and assigns</td>\n",
    "    <td>x=10; x**=3. print(x)</td>\n",
    "    <td>1000</td>\n",
    "  </tr>\n",
    "  <tr>\n",
    "    <td>//=</td>\n",
    "    <td>Floor division and assigns</td>\n",
    "    <td>x=10; x//=2. print(x)</td>\n",
    "    <td>5</td>\n",
    "  </tr>\n",
    "</table>"
   ]
  },
  {
   "cell_type": "markdown",
   "id": "eece6b40",
   "metadata": {},
   "source": [
    "#### Logical Operators"
   ]
  },
  {
   "cell_type": "markdown",
   "id": "e45a1cbf",
   "metadata": {},
   "source": [
    "<table>\n",
    "  <tr>\n",
    "    <th>Operators</th>\n",
    "    <th>Description</th>\n",
    "    <th>Example</th>\n",
    "    <th>Output</th>\n",
    "  </tr>\n",
    "  <tr>\n",
    "    <td>and</td>\n",
    "    <td>Logical AND (when both conditions are true, the output will be true)</td>\n",
    "    <td>x=10>5 and 4>20. print(x)</td>\n",
    "    <td>False</td>\n",
    "  </tr>\n",
    "  <tr>\n",
    "    <td>or</td>\n",
    "    <td>Logical OR (if any one condition is true, the output will be true)</td>\n",
    "    <td>x=10>5 or 4>20. print(x)</td>        \n",
    "    <td>True</td>\n",
    "  </tr>\n",
    "  <tr>\n",
    "    <td>not</td>\n",
    "    <td>Logical NOT (complements the conditions; i.e., reverses it)</td>\n",
    "    <td><= not(10<4). print(x)</td>\n",
    "    <td>True</td>\n",
    "  </tr>\n",
    "</table>"
   ]
  },
  {
   "cell_type": "markdown",
   "id": "cd61bdc3",
   "metadata": {},
   "source": [
    "### Python Comments"
   ]
  },
  {
   "cell_type": "code",
   "execution_count": null,
   "id": "52a76c5e",
   "metadata": {},
   "outputs": [],
   "source": [
    "# Python single line comment\n",
    "'''This\n",
    "Is\n",
    "Multi-line comment '''"
   ]
  },
  {
   "cell_type": "markdown",
   "id": "65946c54",
   "metadata": {},
   "source": [
    "### Conversion Types"
   ]
  },
  {
   "cell_type": "markdown",
   "id": "1e057a40",
   "metadata": {},
   "source": [
    "<table>\n",
    "  <tr>\n",
    "    <th>Syntax</th>\n",
    "    <th>Descriptcion</th>\n",
    "  </tr>\n",
    "  <tr>\n",
    "    <td>%c</td>\n",
    "    <td>Converts to a single character</td>\n",
    "  </tr> \n",
    "  <tr>\n",
    "    <td>%d,%i</td>\n",
    "    <td>Converts to a signed decimal integer or long integer</td>\n",
    "  </tr> \n",
    "  <tr>\n",
    "    <td>%u</td>\n",
    "    <td>Converts to a unsigned decimal integer</td>\n",
    "  </tr> \n",
    "  <tr>\n",
    "    <td>%e,%E</td>\n",
    "    <td>Converts to a floating point in exponential notation</td>\n",
    "  </tr> \n",
    "  <tr>\n",
    "    <td>%f</td>\n",
    "    <td>Converts to a floating point in fixed-decimal notation</td>\n",
    "  </tr> \n",
    "  <tr>\n",
    "    <td>%g</td>\n",
    "    <td>Converts to the value shorter of %f and %e</td>\n",
    "  </tr> \n",
    "  <tr>\n",
    "    <td>%G</td>\n",
    "    <td>Converts to the value shorter of %f and %E</td>\n",
    "  </tr> \n",
    "  <tr>\n",
    "    <td>%o</td>\n",
    "    <td>Converts to an unsigned integer in octal</td>\n",
    "  </tr> \n",
    "  <tr>\n",
    "    <td>%r</td>\n",
    "    <td>Converts to a string generated with repr()</td>\n",
    "  </tr> \n",
    "  <tr>\n",
    "    <td>%s</td>\n",
    "    <td>Converts to a string using the str() function</td>\n",
    "  </tr> \n",
    "  <tr>\n",
    "    <td>%x,%X</td>\n",
    "    <td>Converts to an unsigned integer in hexadecimal</td>\n",
    "  </tr> \n",
    "</table>"
   ]
  },
  {
   "cell_type": "code",
   "execution_count": 5,
   "id": "f2e2d6bf",
   "metadata": {},
   "outputs": [
    {
     "name": "stdout",
     "output_type": "stream",
     "text": [
      "The value of pi is = 3.141590\n"
     ]
    }
   ],
   "source": [
    "print(\"The value of %s is = %02f\" % (\"pi\",3.14159))"
   ]
  },
  {
   "cell_type": "code",
   "execution_count": 9,
   "id": "2883d316",
   "metadata": {},
   "outputs": [
    {
     "name": "stdout",
     "output_type": "stream",
     "text": [
      "Your name is Ossama, and your height is 172.16 while your weight is 75\n"
     ]
    }
   ],
   "source": [
    "print(\"Your name is %s, and your height is %.2f while your weight is %.2d\" % ('Ossama',172.156783,75.56647))"
   ]
  },
  {
   "cell_type": "code",
   "execution_count": 10,
   "id": "85329677",
   "metadata": {},
   "outputs": [
    {
     "name": "stdout",
     "output_type": "stream",
     "text": [
      "Hi Ossama, your height is 172.16\n"
     ]
    }
   ],
   "source": [
    "print(\"Hi %(Name)s, your height is %(height).2f\" %{'Name':\"Ossama\", 'height':172.156783})"
   ]
  },
  {
   "cell_type": "markdown",
   "id": "813906ef",
   "metadata": {},
   "source": [
    "### The Replacement Field, {}"
   ]
  },
  {
   "cell_type": "code",
   "execution_count": 11,
   "id": "469cb903",
   "metadata": {},
   "outputs": [
    {
     "name": "stdout",
     "output_type": "stream",
     "text": [
      "The price is 1920.345\n"
     ]
    }
   ],
   "source": [
    "x = \"price is\"\n",
    "print(\"{1} {0} {2}\".format(x, \"The\", 1920.345))"
   ]
  },
  {
   "cell_type": "markdown",
   "id": "579bd536",
   "metadata": {},
   "source": [
    "### The Date and Time Module"
   ]
  },
  {
   "cell_type": "code",
   "execution_count": 17,
   "id": "94d837a3",
   "metadata": {},
   "outputs": [
    {
     "name": "stdout",
     "output_type": "stream",
     "text": [
      "Formatted time : Mon Feb  6 22:41:20 2023\n",
      "time.struct_time(tm_year=2023, tm_mon=2, tm_mday=6, tm_hour=22, tm_min=41, tm_sec=20, tm_wday=0, tm_yday=37, tm_isdst=0)\n",
      "1675741280.953789\n"
     ]
    }
   ],
   "source": [
    "import time \n",
    "localtime = time.asctime(time.localtime(time.time()))\n",
    "print(\"Formatted time :\", localtime)\n",
    "print(time.localtime())\n",
    "print(time.time())"
   ]
  },
  {
   "cell_type": "markdown",
   "id": "6e79dc18",
   "metadata": {},
   "source": [
    "## Fundamental Python Programming Techniques"
   ]
  },
  {
   "cell_type": "markdown",
   "id": "d0395ccb",
   "metadata": {},
   "source": [
    "### Selection Statements"
   ]
  },
  {
   "cell_type": "code",
   "execution_count": 19,
   "id": "5d021b3d",
   "metadata": {},
   "outputs": [
    {
     "name": "stdout",
     "output_type": "stream",
     "text": [
      "Equal 5\n"
     ]
    }
   ],
   "source": [
    "#Comparison operators\n",
    "x = 5\n",
    "if x == 5:\n",
    "    print(\"Equal 5\")\n",
    "elif x > 5:\n",
    "    print(\"Greater than 5\")\n",
    "elif x < 5:\n",
    "    print(\"Less than 5\")"
   ]
  },
  {
   "cell_type": "code",
   "execution_count": 20,
   "id": "eb73c387",
   "metadata": {},
   "outputs": [
    {
     "name": "stdout",
     "output_type": "stream",
     "text": [
      "Year( 2000 )is Leap\n"
     ]
    }
   ],
   "source": [
    "year = 2000\n",
    "if year % 4 == 0:\n",
    "    print(\"Year(\", year ,\")is Leap\")\n",
    "else:\n",
    "    print(year, \"Year is not Leap\")   "
   ]
  },
  {
   "cell_type": "code",
   "execution_count": 25,
   "id": "3b49fff0",
   "metadata": {},
   "outputs": [
    {
     "name": "stdout",
     "output_type": "stream",
     "text": [
      "Condition is True\n"
     ]
    }
   ],
   "source": [
    "# Nested selection statements\n",
    "a = 21\n",
    "if a >= 20:\n",
    "    print(\"Condition is True\")\n",
    "else:\n",
    "    if a >= 15:\n",
    "        print(\"Checking second value\")\n",
    "    else:\n",
    "        print(\"All condition are false\")"
   ]
  },
  {
   "cell_type": "markdown",
   "id": "294caa51",
   "metadata": {},
   "source": [
    "### Iteration Statements"
   ]
  },
  {
   "cell_type": "code",
   "execution_count": 26,
   "id": "9036148a",
   "metadata": {},
   "outputs": [
    {
     "name": "stdout",
     "output_type": "stream",
     "text": [
      "1\n",
      "2\n",
      "3\n"
     ]
    }
   ],
   "source": [
    "# Use the range statement\n",
    "for a in range(1,4):\n",
    "    print(a)"
   ]
  },
  {
   "cell_type": "code",
   "execution_count": 27,
   "id": "754d6768",
   "metadata": {},
   "outputs": [
    {
     "name": "stdout",
     "output_type": "stream",
     "text": [
      "0\n",
      "1\n",
      "2\n",
      "3\n"
     ]
    }
   ],
   "source": [
    "for a in range(4):\n",
    "    print(a)"
   ]
  },
  {
   "cell_type": "code",
   "execution_count": 29,
   "id": "70fdcbc5",
   "metadata": {},
   "outputs": [
    {
     "name": "stdout",
     "output_type": "stream",
     "text": [
      "Your ticket number is  4\n",
      "Your ticket number is  3\n",
      "Your ticket number is  2\n",
      "Your ticket number is  1\n"
     ]
    }
   ],
   "source": [
    "# While iteration statement\n",
    "ticket = 4\n",
    "while ticket>0:\n",
    "    print(\"Your ticket number is \",ticket)\n",
    "    ticket -= 1"
   ]
  },
  {
   "cell_type": "code",
   "execution_count": 32,
   "id": "e5da17f4",
   "metadata": {},
   "outputs": [
    {
     "name": "stdout",
     "output_type": "stream",
     "text": [
      "Your ticket number is  1\n",
      "Your ticket number is  2\n",
      "Your ticket number is  3\n",
      "Your ticket number is  4\n"
     ]
    }
   ],
   "source": [
    "for i in range(1,5):\n",
    "    print(\"Your ticket number is \",i)"
   ]
  },
  {
   "cell_type": "code",
   "execution_count": 33,
   "id": "c2417102",
   "metadata": {},
   "outputs": [
    {
     "name": "stdout",
     "output_type": "stream",
     "text": [
      "Before: None\n",
      "Loop 30 30\n",
      "Largest 30\n",
      "Loop 45 45\n",
      "Largest 45\n",
      "Largest 45\n",
      "Loop 90 90\n",
      "Largest 90\n",
      "Largest 90\n",
      "Largest 90\n"
     ]
    }
   ],
   "source": [
    "largest = None\n",
    "print('Before:',largest)\n",
    "for val in [30,45,12,90,74,15]:\n",
    "    if largest is None or val>largest:\n",
    "        largest = val\n",
    "        print(\"Loop\", val, largest)\n",
    "    print(\"Largest\", largest)"
   ]
  },
  {
   "cell_type": "markdown",
   "id": "952ecb5a",
   "metadata": {},
   "source": [
    "### The use of break, continues, and pass statements"
   ]
  },
  {
   "cell_type": "markdown",
   "id": "fb4bdb6b",
   "metadata": {},
   "source": [
    "<p>A <b><i>break</i></b> statement is used to jump statements and transfer the execution control. It breaks the current execution, and in the case of an inner loop, the inner loop terminates inmediately</p>\n",
    "<p>A <b><i>continue</i></b> statement is a jump statement that skips execution of current iteration. After skipping, the loop continues with the next iteration</p>\n",
    "<p>The <b><i>pass</i></b> keyword is used to execute nothing. The following examples demosntrate how and when to emply each statement</p>"
   ]
  },
  {
   "cell_type": "code",
   "execution_count": 35,
   "id": "2a4796ad",
   "metadata": {},
   "outputs": [
    {
     "name": "stdout",
     "output_type": "stream",
     "text": [
      "P\n",
      "y\n",
      "t\n",
      "h\n"
     ]
    }
   ],
   "source": [
    "for letter in 'Python3':\n",
    "    if letter == 'o':\n",
    "        break\n",
    "    print(letter)"
   ]
  },
  {
   "cell_type": "code",
   "execution_count": 47,
   "id": "46f09191",
   "metadata": {},
   "outputs": [
    {
     "name": "stdout",
     "output_type": "stream",
     "text": [
      "1\n",
      "3\n",
      "5\n",
      "End of loop\n"
     ]
    }
   ],
   "source": [
    "a=0\n",
    "while a<=5:\n",
    "    a+=1\n",
    "    if a%2==0:\n",
    "        continue # Don't print even results\n",
    "        print(\"prueba\") # Don't print statements after 'continue' word\n",
    "    print(a)\n",
    "print(\"End of loop\")"
   ]
  },
  {
   "cell_type": "code",
   "execution_count": 38,
   "id": "8a5c7859",
   "metadata": {},
   "outputs": [
    {
     "name": "stdout",
     "output_type": "stream",
     "text": [
      "1\n",
      "2\n",
      "Pass when value is 3\n",
      "3\n",
      "4\n",
      "5\n"
     ]
    }
   ],
   "source": [
    "for i in [1,2,3,4,5]:\n",
    "    if i==3:\n",
    "        pass\n",
    "        print(\"Pass when value is\", i)\n",
    "    print(i)"
   ]
  },
  {
   "cell_type": "markdown",
   "id": "80d038f3",
   "metadata": {},
   "source": [
    "### Try and except"
   ]
  },
  {
   "cell_type": "markdown",
   "id": "fdeddae3",
   "metadata": {},
   "source": [
    "<p><b>try</b> and <b>except</b> are used to handle unexpected values where you would like to validate entered values to avoid error ocurrence</p>"
   ]
  },
  {
   "cell_type": "code",
   "execution_count": 48,
   "id": "65ab83b6",
   "metadata": {},
   "outputs": [
    {
     "name": "stdout",
     "output_type": "stream",
     "text": [
      "First try: -1 \n",
      "Incorrect entry\n"
     ]
    }
   ],
   "source": [
    "astr = 'Al Fayom'\n",
    "errosms = ''\n",
    "try:\n",
    "    istr = int(astr) # error\n",
    "except:\n",
    "    istr=-1\n",
    "    errosms = \"\\nIncorrect entry\"\n",
    "print(\"First try:\", istr, errosms)"
   ]
  },
  {
   "cell_type": "code",
   "execution_count": 49,
   "id": "9f1f9b12",
   "metadata": {},
   "outputs": [
    {
     "name": "stdout",
     "output_type": "stream",
     "text": [
      "First try: 12 \n"
     ]
    }
   ],
   "source": [
    "astr = 12\n",
    "errosms = ''\n",
    "try:\n",
    "    istr = int(astr) # error\n",
    "except:\n",
    "    istr=-1\n",
    "    errosms = \"\\nIncorrect entry\"\n",
    "print(\"First try:\", istr, errosms)"
   ]
  },
  {
   "cell_type": "markdown",
   "id": "71931ade",
   "metadata": {},
   "source": [
    "## String processing"
   ]
  },
  {
   "attachments": {
    "string_table.png": {
     "image/png": "[encoded data removed]"
    }
   },
   "cell_type": "markdown",
   "id": "a0850f64",
   "metadata": {},
   "source": [
    "![string_table.png](attachment:string_table.png)"
   ]
  },
  {
   "cell_type": "markdown",
   "id": "1264a0fe",
   "metadata": {},
   "source": [
    "### String special operators"
   ]
  },
  {
   "cell_type": "code",
   "execution_count": 50,
   "id": "a74c6f54",
   "metadata": {},
   "outputs": [],
   "source": [
    "a = 'Hello'\n",
    "b = 'Python'"
   ]
  },
  {
   "cell_type": "markdown",
   "id": "d320f2e9",
   "metadata": {},
   "source": [
    "#### Concatenation"
   ]
  },
  {
   "cell_type": "code",
   "execution_count": 52,
   "id": "0156c2e7",
   "metadata": {},
   "outputs": [
    {
     "data": {
      "text/plain": [
       "'HelloPython'"
      ]
     },
     "execution_count": 52,
     "metadata": {},
     "output_type": "execute_result"
    }
   ],
   "source": [
    "a + b"
   ]
  },
  {
   "cell_type": "markdown",
   "id": "cdf67494",
   "metadata": {},
   "source": [
    "#### Repetition"
   ]
  },
  {
   "cell_type": "code",
   "execution_count": 53,
   "id": "794d954a",
   "metadata": {},
   "outputs": [
    {
     "data": {
      "text/plain": [
       "'HelloHello'"
      ]
     },
     "execution_count": 53,
     "metadata": {},
     "output_type": "execute_result"
    }
   ],
   "source": [
    "a*2"
   ]
  },
  {
   "cell_type": "markdown",
   "id": "246335a6",
   "metadata": {},
   "source": [
    "#### Slice"
   ]
  },
  {
   "cell_type": "code",
   "execution_count": 54,
   "id": "ce281948",
   "metadata": {},
   "outputs": [
    {
     "data": {
      "text/plain": [
       "'e'"
      ]
     },
     "execution_count": 54,
     "metadata": {},
     "output_type": "execute_result"
    }
   ],
   "source": [
    "a[1]"
   ]
  },
  {
   "cell_type": "markdown",
   "id": "efad61a5",
   "metadata": {},
   "source": [
    "#### Range slice"
   ]
  },
  {
   "cell_type": "code",
   "execution_count": 57,
   "id": "329294b0",
   "metadata": {},
   "outputs": [
    {
     "data": {
      "text/plain": [
       "'ell'"
      ]
     },
     "execution_count": 57,
     "metadata": {},
     "output_type": "execute_result"
    }
   ],
   "source": [
    "a[1:4]"
   ]
  },
  {
   "cell_type": "markdown",
   "id": "1a05b77c",
   "metadata": {},
   "source": [
    "#### Membership"
   ]
  },
  {
   "cell_type": "code",
   "execution_count": 1,
   "id": "f6c87707",
   "metadata": {},
   "outputs": [
    {
     "ename": "NameError",
     "evalue": "name 'a' is not defined",
     "output_type": "error",
     "traceback": [
      "\u001b[0;31m---------------------------------------------------------------------------\u001b[0m",
      "\u001b[0;31mNameError\u001b[0m                                 Traceback (most recent call last)",
      "\u001b[0;32m/var/folders/kn/7zp94d956m90kx6s3b45f1lm0000gn/T/ipykernel_10880/3000923400.py\u001b[0m in \u001b[0;36m<module>\u001b[0;34m\u001b[0m\n\u001b[0;32m----> 1\u001b[0;31m \u001b[0;34m'H'\u001b[0m \u001b[0;32min\u001b[0m \u001b[0ma\u001b[0m\u001b[0;34m\u001b[0m\u001b[0;34m\u001b[0m\u001b[0m\n\u001b[0m",
      "\u001b[0;31mNameError\u001b[0m: name 'a' is not defined"
     ]
    }
   ],
   "source": [
    "'H' in a"
   ]
  },
  {
   "cell_type": "code",
   "execution_count": 60,
   "id": "ecd874a7",
   "metadata": {},
   "outputs": [
    {
     "data": {
      "text/plain": [
       "True"
      ]
     },
     "execution_count": 60,
     "metadata": {},
     "output_type": "execute_result"
    }
   ],
   "source": [
    "'M' not in a"
   ]
  },
  {
   "cell_type": "markdown",
   "id": "88a1248b",
   "metadata": {},
   "source": [
    "### Loop Through String"
   ]
  },
  {
   "cell_type": "code",
   "execution_count": 2,
   "id": "ca1bcf02",
   "metadata": {},
   "outputs": [
    {
     "name": "stdout",
     "output_type": "stream",
     "text": [
      "0 b\n",
      "1 a\n",
      "2 n\n",
      "3 a\n",
      "4 n\n",
      "5 a\n"
     ]
    }
   ],
   "source": [
    "fruit = 'banana'\n",
    "index = 0\n",
    "while index < len(fruit):\n",
    "    letter = fruit[index]\n",
    "    print(index,letter)\n",
    "    index+=1"
   ]
  },
  {
   "cell_type": "code",
   "execution_count": 4,
   "id": "c42d0f8d",
   "metadata": {},
   "outputs": [
    {
     "name": "stdout",
     "output_type": "stream",
     "text": [
      "\n",
      "Implementing iteration with continue\n",
      "Enter your data: #\n",
      "Enter your data: #\n",
      "Enter your data: #\n",
      "Enter your data: #\n",
      "Enter your data: Hi\n",
      "Hi\n",
      "Enter your data: Python\n",
      "Python\n",
      "Enter your data: done\n",
      "End!\n"
     ]
    }
   ],
   "source": [
    "print(\"\\nImplementing iteration with continue\")\n",
    "while True:\n",
    "    line = input(\"Enter your data: \")\n",
    "    if line[0] == '#':\n",
    "        continue\n",
    "    if line == 'done':\n",
    "        break\n",
    "    print(line)\n",
    "print('End!')"
   ]
  },
  {
   "cell_type": "code",
   "execution_count": 5,
   "id": "ea46ccb9",
   "metadata": {},
   "outputs": [
    {
     "name": "stdout",
     "output_type": "stream",
     "text": [
      "\n",
      "Printing in reverse order\n",
      "5 a\n",
      "4 n\n",
      "3 a\n",
      "2 n\n",
      "1 a\n",
      "0 b\n"
     ]
    }
   ],
   "source": [
    "print(\"\\nPrinting in reverse order\")\n",
    "index = len(fruit)-1\n",
    "while index >= 0:\n",
    "    letter = fruit[index]\n",
    "    print(index,letter)\n",
    "    index -= 1"
   ]
  },
  {
   "cell_type": "markdown",
   "id": "2a5feed5",
   "metadata": {},
   "source": [
    "### Python String Function and Methods"
   ]
  },
  {
   "cell_type": "code",
   "execution_count": 13,
   "id": "9d322c63",
   "metadata": {},
   "outputs": [],
   "source": [
    "# capitalize() -> capitalized the first character of the string\n",
    "# count(string, begin, end) -> counts a number of times a substring occurs in a string between the beginning and end indices\n",
    "# endswith(suffix,begin=0,end=n) -> returns a boolean value if the string terminates with a given suffix between the beginning and end\n",
    "# find(substring,beginIndex,endIndex) -> returns the index value of the string where the substring is found between the begin index and the end index\n",
    "# index(substring,beginIndex,endIndex) -> throws an exception if the string is not found and works same as the find() method\n",
    "# len(string) -> returns the length of a string\n",
    "# lower() -> converts all the characters if a string to lowercase\n",
    "# upper() -> converts all the characters of a string to uppercase\n",
    "# startswith(str,begin=0,end=n) -> returns a boolean value if the string starts with the given str between the beginning and end\n",
    "# lstrip() -> removes all leading white space of a string\n",
    "# rstrip() -> remove all trailing white space of a string"
   ]
  },
  {
   "cell_type": "markdown",
   "id": "5f3d19dd",
   "metadata": {},
   "source": [
    "## Tabular Data and Data Formats"
   ]
  },
  {
   "cell_type": "markdown",
   "id": "6a89c338",
   "metadata": {},
   "source": [
    "### A Pandas Series"
   ]
  },
  {
   "cell_type": "code",
   "execution_count": 14,
   "id": "7674cfe3",
   "metadata": {},
   "outputs": [
    {
     "name": "stdout",
     "output_type": "stream",
     "text": [
      "A    90\n",
      "B    75\n",
      "C    50\n",
      "D    66\n",
      "dtype: int64\n"
     ]
    }
   ],
   "source": [
    "# Create series from array using pandas and numpy\n",
    "import pandas as pd\n",
    "import numpy as np\n",
    "data = np.array([90,75,50,66])\n",
    "s = pd.Series(data, index=['A','B','C','D'])\n",
    "print(s)"
   ]
  },
  {
   "cell_type": "code",
   "execution_count": 15,
   "id": "11fe319b",
   "metadata": {},
   "outputs": [
    {
     "name": "stdout",
     "output_type": "stream",
     "text": [
      "75\n"
     ]
    }
   ],
   "source": [
    "print(s[1])"
   ]
  },
  {
   "cell_type": "code",
   "execution_count": 16,
   "id": "82d22af1",
   "metadata": {},
   "outputs": [
    {
     "name": "stdout",
     "output_type": "stream",
     "text": [
      "Ali      55\n",
      "Ahmed    92\n",
      "Omar     83\n",
      "dtype: int64\n"
     ]
    }
   ],
   "source": [
    "# Create series from dictionary using pandas\n",
    "data = {'Ahmed':92, 'Ali':55, 'Omar':83}\n",
    "s = pd.Series(data, index=['Ali','Ahmed','Omar'])\n",
    "print(s)"
   ]
  },
  {
   "cell_type": "code",
   "execution_count": 17,
   "id": "53013442",
   "metadata": {},
   "outputs": [
    {
     "name": "stdout",
     "output_type": "stream",
     "text": [
      "Ahmed    92\n",
      "Omar     83\n",
      "dtype: int64\n"
     ]
    }
   ],
   "source": [
    "print(s[1:])"
   ]
  },
  {
   "cell_type": "markdown",
   "id": "ffe8f2b5",
   "metadata": {},
   "source": [
    "### A Pandas DataFrame"
   ]
  },
  {
   "cell_type": "code",
   "execution_count": 20,
   "id": "1d9a48b0",
   "metadata": {},
   "outputs": [
    {
     "name": "stdout",
     "output_type": "stream",
     "text": [
      "    Name  Age\n",
      "0  Ahmed   35\n",
      "1    Ali   17\n",
      "2   Omar   25\n"
     ]
    }
   ],
   "source": [
    "data = [['Ahmed',35],['Ali',17],['Omar',25]]\n",
    "DataFrame1 = pd.DataFrame(data,columns=['Name','Age'])\n",
    "print(DataFrame1)"
   ]
  },
  {
   "cell_type": "code",
   "execution_count": 21,
   "id": "93e8fd0a",
   "metadata": {},
   "outputs": [
    {
     "data": {
      "text/html": [
       "<div>\n",
       "<style scoped>\n",
       "    .dataframe tbody tr th:only-of-type {\n",
       "        vertical-align: middle;\n",
       "    }\n",
       "\n",
       "    .dataframe tbody tr th {\n",
       "        vertical-align: top;\n",
       "    }\n",
       "\n",
       "    .dataframe thead th {\n",
       "        text-align: right;\n",
       "    }\n",
       "</style>\n",
       "<table border=\"1\" class=\"dataframe\">\n",
       "  <thead>\n",
       "    <tr style=\"text-align: right;\">\n",
       "      <th></th>\n",
       "      <th>Name</th>\n",
       "      <th>Age</th>\n",
       "    </tr>\n",
       "  </thead>\n",
       "  <tbody>\n",
       "    <tr>\n",
       "      <th>1</th>\n",
       "      <td>Ali</td>\n",
       "      <td>17</td>\n",
       "    </tr>\n",
       "    <tr>\n",
       "      <th>2</th>\n",
       "      <td>Omar</td>\n",
       "      <td>25</td>\n",
       "    </tr>\n",
       "  </tbody>\n",
       "</table>\n",
       "</div>"
      ],
      "text/plain": [
       "   Name  Age\n",
       "1   Ali   17\n",
       "2  Omar   25"
      ]
     },
     "execution_count": 21,
     "metadata": {},
     "output_type": "execute_result"
    }
   ],
   "source": [
    "DataFrame1[1:]"
   ]
  },
  {
   "cell_type": "code",
   "execution_count": 22,
   "id": "51aae1a2",
   "metadata": {},
   "outputs": [
    {
     "name": "stdout",
     "output_type": "stream",
     "text": [
      "      Name  Age\n",
      "100  Ahmed   35\n",
      "101    Ali   17\n",
      "102   Omar   25\n",
      "103  Salwa   30\n"
     ]
    }
   ],
   "source": [
    "data = {'Name':['Ahmed','Ali','Omar','Salwa'],'Age':[35,17,25,30]}\n",
    "dataframe2 = pd.DataFrame(data, index=[100,101,102,103])\n",
    "print(dataframe2)"
   ]
  },
  {
   "cell_type": "code",
   "execution_count": 23,
   "id": "3cd0a178",
   "metadata": {},
   "outputs": [
    {
     "data": {
      "text/html": [
       "<div>\n",
       "<style scoped>\n",
       "    .dataframe tbody tr th:only-of-type {\n",
       "        vertical-align: middle;\n",
       "    }\n",
       "\n",
       "    .dataframe tbody tr th {\n",
       "        vertical-align: top;\n",
       "    }\n",
       "\n",
       "    .dataframe thead th {\n",
       "        text-align: right;\n",
       "    }\n",
       "</style>\n",
       "<table border=\"1\" class=\"dataframe\">\n",
       "  <thead>\n",
       "    <tr style=\"text-align: right;\">\n",
       "      <th></th>\n",
       "      <th>Name</th>\n",
       "      <th>Age</th>\n",
       "    </tr>\n",
       "  </thead>\n",
       "  <tbody>\n",
       "    <tr>\n",
       "      <th>100</th>\n",
       "      <td>Ahmed</td>\n",
       "      <td>35</td>\n",
       "    </tr>\n",
       "    <tr>\n",
       "      <th>101</th>\n",
       "      <td>Ali</td>\n",
       "      <td>17</td>\n",
       "    </tr>\n",
       "  </tbody>\n",
       "</table>\n",
       "</div>"
      ],
      "text/plain": [
       "      Name  Age\n",
       "100  Ahmed   35\n",
       "101    Ali   17"
      ]
     },
     "execution_count": 23,
     "metadata": {},
     "output_type": "execute_result"
    }
   ],
   "source": [
    "dataframe2[:2] #first two rows"
   ]
  },
  {
   "cell_type": "markdown",
   "id": "0cbbd4d3",
   "metadata": {},
   "source": [
    "### Python lambdas and the Numpy Library"
   ]
  },
  {
   "cell_type": "code",
   "execution_count": 31,
   "id": "bb313022",
   "metadata": {},
   "outputs": [
    {
     "name": "stdout",
     "output_type": "stream",
     "text": [
      "The summation of 7 + 10 = 17\n"
     ]
    }
   ],
   "source": [
    "# Anonymous function definition\n",
    "summation = lambda val1, val2: val1 + val2 # Call\n",
    "print(\"The summation of 7 + 10 =\",summation(7,10))"
   ]
  },
  {
   "cell_type": "code",
   "execution_count": 35,
   "id": "d0e693d9",
   "metadata": {},
   "outputs": [
    {
     "name": "stdout",
     "output_type": "stream",
     "text": [
      "The result of 2x10 = 10\n"
     ]
    }
   ],
   "source": [
    "result = lambda x, y: x*y\n",
    "print(\"The result of 2x10 =\",result(2,5))"
   ]
  },
  {
   "cell_type": "code",
   "execution_count": 36,
   "id": "9d031bec",
   "metadata": {},
   "outputs": [
    {
     "name": "stdout",
     "output_type": "stream",
     "text": [
      "[60.44, 77.0, 86.9, 77.0]\n",
      "[-9.0, -3.8888888888888893, -0.8333333333333334, -3.8888888888888893]\n"
     ]
    }
   ],
   "source": [
    "# Using the map() function\n",
    "def fahrenheit(T):\n",
    "    return ((float(9)/5)*T + 32)\n",
    "def celsius(T):\n",
    "    return (float(5)/9)*(T-32)\n",
    "Temp = (15.8,25,30.5,25)\n",
    "F = list(map(fahrenheit,Temp))\n",
    "C = list(map(celsius, Temp))\n",
    "print(F)\n",
    "print(C)"
   ]
  },
  {
   "cell_type": "code",
   "execution_count": 37,
   "id": "d1fc52ea",
   "metadata": {},
   "outputs": [
    {
     "name": "stdout",
     "output_type": "stream",
     "text": [
      "102.56\n",
      "97.7\n",
      "99.14\n",
      "100.03999999999999\n"
     ]
    }
   ],
   "source": [
    "Celcius = [39.2,36.5,37.3,37.8]\n",
    "Fahrenheit = map(lambda x: (float(9)/5)*x + 32, Celcius)\n",
    "for x in Fahrenheit:\n",
    "    print(x)"
   ]
  },
  {
   "cell_type": "code",
   "execution_count": 38,
   "id": "cfce4546",
   "metadata": {},
   "outputs": [
    {
     "name": "stdout",
     "output_type": "stream",
     "text": [
      "0\n",
      "2\n",
      "8\n",
      "34\n"
     ]
    }
   ],
   "source": [
    "# The filter function\n",
    "fib = [0,1,1,2,3,5,8,13,21,34,55]\n",
    "result = filter(lambda x: x%2==0,fib)\n",
    "for x in result:\n",
    "    print(x)"
   ]
  },
  {
   "cell_type": "markdown",
   "id": "1beadc93",
   "metadata": {},
   "source": [
    "## Running Basic Inferential Analyses"
   ]
  },
  {
   "cell_type": "code",
   "execution_count": 40,
   "id": "96023608",
   "metadata": {},
   "outputs": [
    {
     "data": {
      "image/png": "[encoded data removed]",
      "text/plain": [
       "<Figure size 640x480 with 1 Axes>"
      ]
     },
     "metadata": {},
     "output_type": "display_data"
    }
   ],
   "source": [
    "import seaborn as sb\n",
    "from matplotlib import pyplot as plt\n",
    "df = sb.load_dataset('tips')\n",
    "sb.regplot(x = \"total_bill\", y=\"tip\", data=df)\n",
    "plt.xlabel(\"Total Bill\")\n",
    "plt.ylabel(\"Bill Tips\")\n",
    "plt.show()"
   ]
  },
  {
   "cell_type": "code",
   "execution_count": 44,
   "id": "e1863848",
   "metadata": {},
   "outputs": [
    {
     "data": {
      "image/png": "[encoded data removed]",
      "text/plain": [
       "<Figure size 750x750 with 12 Axes>"
      ]
     },
     "metadata": {},
     "output_type": "display_data"
    }
   ],
   "source": [
    "import matplotlib.pyplot as plt\n",
    "import seaborn as sns\n",
    "sd = sns.load_dataset('iris')\n",
    "sns.pairplot(df,kind=\"scatter\")\n",
    "plt.show()"
   ]
  },
  {
   "cell_type": "code",
   "execution_count": null,
   "id": "776c25ca",
   "metadata": {},
   "outputs": [],
   "source": []
  },
  {
   "cell_type": "code",
   "execution_count": null,
   "id": "560ab468",
   "metadata": {},
   "outputs": [],
   "source": []
  },
  {
   "cell_type": "code",
   "execution_count": null,
   "id": "fcd1e6f1",
   "metadata": {},
   "outputs": [],
   "source": []
  },
  {
   "cell_type": "code",
   "execution_count": null,
   "id": "2d21b2b1",
   "metadata": {},
   "outputs": [],
   "source": []
  }
 ],
 "metadata": {
  "kernelspec": {
   "display_name": "Python 3 (ipykernel)",
   "language": "python",
   "name": "python3"
  },
  "language_info": {
   "codemirror_mode": {
    "name": "ipython",
    "version": 3
   },
   "file_extension": ".py",
   "mimetype": "text/x-python",
   "name": "python",
   "nbconvert_exporter": "python",
   "pygments_lexer": "ipython3",
   "version": "3.9.13"
  }
 },
 "nbformat": 4,
 "nbformat_minor": 5
}
