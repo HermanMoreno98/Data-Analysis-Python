{
 "cells": [
  {
   "cell_type": "markdown",
   "id": "bcdf728a",
   "metadata": {},
   "source": [
    "# Chapter 1"
   ]
  },
  {
   "cell_type": "markdown",
   "id": "7b4580aa",
   "metadata": {},
   "source": [
    "## Basic Syntax"
   ]
  },
  {
   "cell_type": "markdown",
   "id": "321fdc1b",
   "metadata": {},
   "source": [
    "### Multiple statemetns on a single line"
   ]
  },
  {
   "cell_type": "markdown",
   "id": "1934d3d5",
   "metadata": {},
   "source": [
    "Python allows the use of \\n to split line into multiple lineas. In addition, the semicolon \";\" allows multiple statements on a single line of neither statement starts a new code block."
   ]
  },
  {
   "cell_type": "code",
   "execution_count": 3,
   "id": "f2e78212",
   "metadata": {},
   "outputs": [
    {
     "name": "stdout",
     "output_type": "stream",
     "text": [
      "Nour\n",
      "Welcome to\n",
      "Dubai Festival 2018\n"
     ]
    }
   ],
   "source": [
    "TV = 15; name = \"Nour\"; print(name);print(\"Welcome to\\nDubai Festival 2018\")"
   ]
  },
  {
   "cell_type": "markdown",
   "id": "497a3634",
   "metadata": {},
   "source": [
    "### Read Data from Users"
   ]
  },
  {
   "cell_type": "code",
   "execution_count": 5,
   "id": "0858807e",
   "metadata": {},
   "outputs": [
    {
     "name": "stdout",
     "output_type": "stream",
     "text": [
      "Enter your name: Paul\n",
      "Enter your age: 24\n",
      "\n",
      "Name = Paul\n",
      "\n",
      "Age = 24\n"
     ]
    }
   ],
   "source": [
    "name = input(\"Enter your name: \")\n",
    "age = int(input(\"Enter your age: \"))\n",
    "print(\"\\nName =\", name);print(\"\\nAge =\", age)"
   ]
  },
  {
   "cell_type": "markdown",
   "id": "5fc5f3c3",
   "metadata": {},
   "source": [
    "### Declaring Variables and Assigning Values"
   ]
  },
  {
   "cell_type": "markdown",
   "id": "95d25f80",
   "metadata": {},
   "source": [
    "<p>Python has five standart data types that are used to define the operations possible on them and the storage method for each of them</p>\n",
    "<ul>\n",
    "<li>Number</li>\n",
    "<li>String</li>\n",
    "<li>List</li>\n",
    "<li>Tuple</li>\n",
    "<li>Dictionary</li>\n",
    "</ul>\n",
    "<p>The equal \"=\" operator is used to assign a value to a variable.</p>"
   ]
  },
  {
   "cell_type": "code",
   "execution_count": 6,
   "id": "7aaed270",
   "metadata": {},
   "outputs": [],
   "source": [
    "age = 11\n",
    "name = \"Nour\"\n",
    "tall = 100.50"
   ]
  },
  {
   "cell_type": "code",
   "execution_count": 7,
   "id": "b4acfc65",
   "metadata": {},
   "outputs": [
    {
     "name": "stdout",
     "output_type": "stream",
     "text": [
      "11\n",
      "Nour\n",
      "100.5\n"
     ]
    }
   ],
   "source": [
    "print(age)\n",
    "print(name)\n",
    "print(tall)"
   ]
  },
  {
   "cell_type": "markdown",
   "id": "249a1446",
   "metadata": {},
   "source": [
    "### Multiple Assigns"
   ]
  },
  {
   "cell_type": "code",
   "execution_count": 11,
   "id": "89b4416e",
   "metadata": {},
   "outputs": [
    {
     "name": "stdout",
     "output_type": "stream",
     "text": [
      "25\n",
      "25\n",
      "25\n"
     ]
    }
   ],
   "source": [
    "age = mark = code = 25\n",
    "print(age)\n",
    "print(mark)\n",
    "print(code)"
   ]
  },
  {
   "cell_type": "code",
   "execution_count": 12,
   "id": "f2d74f98",
   "metadata": {},
   "outputs": [
    {
     "name": "stdout",
     "output_type": "stream",
     "text": [
      "10\n",
      "75\n",
      "CIS2403\n"
     ]
    }
   ],
   "source": [
    "age, mark, code = 10, 75, \"CIS2403\"\n",
    "print(age)\n",
    "print(mark)\n",
    "print(code)"
   ]
  },
  {
   "cell_type": "markdown",
   "id": "70d55199",
   "metadata": {},
   "source": [
    "### Variable names"
   ]
  },
  {
   "cell_type": "markdown",
   "id": "ea88e1c6",
   "metadata": {},
   "source": [
    "<p>\n",
    "    A variable is an identifier that allocates specific memory space and assigns a value that could change during the program runtime.\n",
    "</p>\n",
    "<p>\n",
    "    There are many rules and restrictions for variable names. The following examples shows incorrect naming:\n",
    "</p>\n",
    "\n",
    "```python\n",
    "{?age, 1age, age student, and, if, 1_age, etc}\n",
    "```\n",
    "\n",
    "<p>\n",
    "    The following shows correct naming for a variable:\n",
    "</p>\n",
    "\n",
    "```python\n",
    "{age, age_1, age_1, if_age, etc.}\n",
    "```"
   ]
  },
  {
   "cell_type": "markdown",
   "id": "16c0ba5d",
   "metadata": {},
   "source": [
    "### Statements and Expressions"
   ]
  },
  {
   "cell_type": "markdown",
   "id": "807787b0",
   "metadata": {},
   "source": [
    "<p>A <b><i>statement</i></b> is any unit of code thta can be executed by a Python interpreter to get a specific result or perform a specific task</p>\n",
    "<p>The <b><i>expression</i></b> is a combination of values, variables, and operators that are evaluated by the interpreter to do a specific task</p>"
   ]
  },
  {
   "cell_type": "code",
   "execution_count": 14,
   "id": "5012ce27",
   "metadata": {},
   "outputs": [
    {
     "name": "stdout",
     "output_type": "stream",
     "text": [
      "0.94\n"
     ]
    }
   ],
   "source": [
    "x = 0.6 #Statement\n",
    "x = 3.9 * x * (1-x) #Expressions\n",
    "print(round(x,2))"
   ]
  },
  {
   "cell_type": "markdown",
   "id": "3af8ae86",
   "metadata": {},
   "source": [
    "### Basic Operators in Python"
   ]
  },
  {
   "cell_type": "markdown",
   "id": "f2e25861",
   "metadata": {},
   "source": [
    "#### Arithmetic Operators"
   ]
  },
  {
   "cell_type": "markdown",
   "id": "e51c368e",
   "metadata": {},
   "source": [
    "<table>\n",
    "  <tr>\n",
    "    <th>Operators</th>\n",
    "    <th>Description</th>\n",
    "    <th>Example</th>\n",
    "    <th>Output</th>\n",
    "  </tr>\n",
    "  <tr>\n",
    "    <td>//</td>\n",
    "    <td>Performs floor division(gives the integer value after division)</td>\n",
    "    <td>print (13//5)</td>\n",
    "    <td>2</td>\n",
    "  </tr>\n",
    "  <tr>\n",
    "    <td>+</td>\n",
    "    <td>Performs addition</td>\n",
    "    <td>print (13+5)</td>        \n",
    "    <td>18</td>\n",
    "  </tr>\n",
    "  <tr>\n",
    "    <td>-</td>\n",
    "    <td>Performs subtraction</td>\n",
    "    <td>print (13-5)</td>\n",
    "    <td>8</td>\n",
    "  </tr>\n",
    "  <tr>\n",
    "    <td>*</td>\n",
    "    <td>Performs multiplication</td>\n",
    "    <td>print (2*5)</td>\n",
    "    <td>10</td>\n",
    "  </tr>\n",
    "  <tr>\n",
    "    <td>/</td>\n",
    "    <td>Performs division</td>\n",
    "    <td>print (13/5)</td>\n",
    "    <td>2.6</td>\n",
    "  </tr>\n",
    "  <tr>\n",
    "    <td>%</td>\n",
    "    <td>Returns the remainder after division (modulus) </td>\n",
    "    <td>print (13%5)</td>\n",
    "    <td>3</td>\n",
    "  </tr>\n",
    "  <tr>\n",
    "    <td>**</td>\n",
    "    <td>Returns an exponent (raises to a power)</td>\n",
    "    <td>print (2**3)</td>\n",
    "    <td>8</td>\n",
    "  </tr>\n",
    "</table>"
   ]
  },
  {
   "cell_type": "markdown",
   "id": "90fc299b",
   "metadata": {},
   "source": [
    "#### Relational Operators"
   ]
  },
  {
   "cell_type": "markdown",
   "id": "98ce1d68",
   "metadata": {},
   "source": [
    "<table>\n",
    "  <tr>\n",
    "    <th>Operators</th>\n",
    "    <th>Description</th>\n",
    "    <th>Example</th>\n",
    "    <th>Output</th>\n",
    "  </tr>\n",
    "  <tr>\n",
    "    <td><</td>\n",
    "    <td>Less than</td>\n",
    "    <td>print (13<5)</td>\n",
    "    <td>False</td>\n",
    "  </tr>\n",
    "  <tr>\n",
    "    <td>></td>\n",
    "    <td>Greater than</td>\n",
    "    <td>print (13>5)</td>        \n",
    "    <td>true</td>\n",
    "  </tr>\n",
    "  <tr>\n",
    "    <td><=</td>\n",
    "    <td>Less than or equal to</td>\n",
    "    <td>print (13<=5)</td>\n",
    "    <td>False</td>\n",
    "  </tr>\n",
    "  <tr>\n",
    "    <td>>=</td>\n",
    "    <td>Greater than or equal to</td>\n",
    "    <td>print (2>=5)</td>\n",
    "    <td>False</td>\n",
    "  </tr>\n",
    "  <tr>\n",
    "    <td>==</td>\n",
    "    <td>Equal to</td>\n",
    "    <td>print (13==5)</td>\n",
    "    <td>False</td>\n",
    "  </tr>\n",
    "  <tr>\n",
    "    <td>!=</td>\n",
    "    <td>Not equal to</td>\n",
    "    <td>print (13!=5)</td>\n",
    "    <td>True</td>\n",
    "  </tr>\n",
    "</table>"
   ]
  },
  {
   "cell_type": "markdown",
   "id": "174054fc",
   "metadata": {},
   "source": [
    "#### Assign Operators"
   ]
  },
  {
   "cell_type": "markdown",
   "id": "c9059077",
   "metadata": {},
   "source": [
    "<table>\n",
    "  <tr>\n",
    "    <th>Operators</th>\n",
    "    <th>Description</th>\n",
    "    <th>Example</th>\n",
    "    <th>Output</th>\n",
    "  </tr>\n",
    "  <tr>\n",
    "    <td>==</td>\n",
    "    <td>Assigns</td>\n",
    "    <td>x=10. print(x)</td>\n",
    "    <td>10</td>\n",
    "  </tr>\n",
    "  <tr>\n",
    "    <td>/=</td>\n",
    "    <td>Divides and assigns</td>\n",
    "    <td>x=10; x/=2. print(x)</td>        \n",
    "    <td>5</td>\n",
    "  </tr>\n",
    "  <tr>\n",
    "    <td>+=</td>\n",
    "    <td>Adds and assigns</td>\n",
    "    <td>x=10; x+=7. print(x)</td>\n",
    "    <td>17</td>\n",
    "  </tr>\n",
    "  <tr>\n",
    "    <td>-=</td>\n",
    "    <td>Substracts and assigns</td>\n",
    "    <td>x=10; x-=6. print(x)</td>\n",
    "    <td>4</td>\n",
    "  </tr>\n",
    "  <tr>\n",
    "    <td>*=</td>\n",
    "    <td>Multiplies and assigns</td>\n",
    "    <td>x=10; x*=5. print(x)</td>\n",
    "    <td>50</td>\n",
    "  </tr>\n",
    "  <tr>\n",
    "    <td>%=</td>\n",
    "    <td>Modulus and assigns</td>\n",
    "    <td>x=13; x%=5. print(x)</td>\n",
    "    <td>3</td>\n",
    "  </tr>\n",
    "  <tr>\n",
    "    <td>**=</td>\n",
    "    <td>Exponent and assigns</td>\n",
    "    <td>x=10; x**=3. print(x)</td>\n",
    "    <td>1000</td>\n",
    "  </tr>\n",
    "  <tr>\n",
    "    <td>//=</td>\n",
    "    <td>Floor division and assigns</td>\n",
    "    <td>x=10; x//=2. print(x)</td>\n",
    "    <td>5</td>\n",
    "  </tr>\n",
    "</table>"
   ]
  },
  {
   "cell_type": "markdown",
   "id": "eece6b40",
   "metadata": {},
   "source": [
    "#### Logical Operators"
   ]
  },
  {
   "cell_type": "markdown",
   "id": "e45a1cbf",
   "metadata": {},
   "source": [
    "<table>\n",
    "  <tr>\n",
    "    <th>Operators</th>\n",
    "    <th>Description</th>\n",
    "    <th>Example</th>\n",
    "    <th>Output</th>\n",
    "  </tr>\n",
    "  <tr>\n",
    "    <td>and</td>\n",
    "    <td>Logical AND (when both conditions are true, the output will be true)</td>\n",
    "    <td>x=10>5 and 4>20. print(x)</td>\n",
    "    <td>False</td>\n",
    "  </tr>\n",
    "  <tr>\n",
    "    <td>or</td>\n",
    "    <td>Logical OR (if any one condition is true, the output will be true)</td>\n",
    "    <td>x=10>5 or 4>20. print(x)</td>        \n",
    "    <td>true</td>\n",
    "  </tr>\n",
    "  <tr>\n",
    "    <td>not</td>\n",
    "    <td>Logical NOT (complements the conditions; i.e., reverses it)</td>\n",
    "    <td><= not(10<4). print(x)</td>\n",
    "    <td>true</td>\n",
    "  </tr>\n",
    "</table>"
   ]
  },
  {
   "cell_type": "code",
   "execution_count": null,
   "id": "6dd68024",
   "metadata": {},
   "outputs": [],
   "source": []
  },
  {
   "cell_type": "code",
   "execution_count": null,
   "id": "52a76c5e",
   "metadata": {},
   "outputs": [],
   "source": []
  },
  {
   "cell_type": "code",
   "execution_count": null,
   "id": "bae1e32c",
   "metadata": {},
   "outputs": [],
   "source": []
  }
 ],
 "metadata": {
  "kernelspec": {
   "display_name": "Python 3 (ipykernel)",
   "language": "python",
   "name": "python3"
  },
  "language_info": {
   "codemirror_mode": {
    "name": "ipython",
    "version": 3
   },
   "file_extension": ".py",
   "mimetype": "text/x-python",
   "name": "python",
   "nbconvert_exporter": "python",
   "pygments_lexer": "ipython3",
   "version": "3.9.12"
  }
 },
 "nbformat": 4,
 "nbformat_minor": 5
}
